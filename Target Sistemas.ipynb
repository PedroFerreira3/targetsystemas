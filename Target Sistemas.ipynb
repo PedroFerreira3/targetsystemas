{
 "cells": [
  {
   "cell_type": "markdown",
   "id": "c5e999a0",
   "metadata": {},
   "source": [
    "1) Observe o trecho de código abaixo: int INDICE = 13, SOMA = 0, K = 0;\n",
    "Enquanto K < INDICE faça { K = K + 1; SOMA = SOMA + K; }\n",
    "Imprimir(SOMA);\n",
    "Ao final do processamento, qual será o valor da variável SOMA?\n",
    "\n",
    "Resposta: 91"
   ]
  },
  {
   "cell_type": "code",
   "execution_count": 6,
   "id": "92ecc8b1",
   "metadata": {},
   "outputs": [
    {
     "name": "stdout",
     "output_type": "stream",
     "text": [
      "91\n"
     ]
    }
   ],
   "source": [
    "INDICE = 13\n",
    "SOMA = 0\n",
    "K = 0\n",
    "\n",
    "while K < INDICE:\n",
    "    K = K + 1\n",
    "    SOMA = SOMA + K\n",
    "\n",
    "print(SOMA)"
   ]
  },
  {
   "cell_type": "markdown",
   "id": "e1829160",
   "metadata": {},
   "source": [
    "2) Dado a sequência de Fibonacci, onde se inicia por 0 e 1 e o próximo valor sempre será a soma dos 2 valores anteriores (exemplo: 0, 1, 1, 2, 3, 5, 8, 13, 21, 34...), escreva um programa na linguagem que desejar onde, informado um número, ele calcule a sequência de Fibonacci e retorne uma mensagem avisando se o número informado pertence ou não a sequência.\n",
    "\n",
    "IMPORTANTE: Esse número pode ser informado através de qualquer entrada de sua preferência ou pode ser previamente definido no código;"
   ]
  },
  {
   "cell_type": "code",
   "execution_count": 24,
   "id": "ba0abfb8",
   "metadata": {},
   "outputs": [
    {
     "name": "stdout",
     "output_type": "stream",
     "text": [
      "Digite um número: 8\n",
      "Pertence à sequência de Fibonacci.\n"
     ]
    }
   ],
   "source": [
    "def fibonacci(n):\n",
    "    sequencia = [0, 1]\n",
    "    \n",
    "    while sequencia[-1] < n:\n",
    "        sequencia.append(sequencia[-1] + sequencia[-2])\n",
    "    \n",
    "    if n in sequencia:\n",
    "        return \"Pertence à sequência de Fibonacci.\"\n",
    "    else:\n",
    "        return \"Não pertence à sequência de Fibonacci.\"\n",
    "\n",
    "numero = int(input(\"Digite um número: \"))\n",
    "print(fibonacci(numero))"
   ]
  },
  {
   "cell_type": "markdown",
   "id": "08cc55f1",
   "metadata": {},
   "source": [
    "3) Dado um vetor que guarda o valor de faturamento diário de uma distribuidora, faça um programa, na linguagem que desejar, que calcule e retorne:\n",
    "\n",
    "• O menor valor de faturamento ocorrido em um dia do mês;\n",
    "\n",
    "• O maior valor de faturamento ocorrido em um dia do mês;\n",
    "\n",
    "• Número de dias no mês em que o valor de faturamento diário foi superior à média mensal.\n",
    "IMPORTANTE:\n",
    "\n",
    "a) Usar o json ou xml disponível como fonte dos dados do faturamento mensal;\n",
    "\n",
    "b) Podem existir dias sem faturamento, como nos finais de semana e feriados. Estes dias devem ser ignorados no cálculo da média;\n"
   ]
  },
  {
   "cell_type": "code",
   "execution_count": 160,
   "id": "54bf8029",
   "metadata": {},
   "outputs": [
    {
     "name": "stdout",
     "output_type": "stream",
     "text": [
      "{'1': 2135, '2': 1973, '3': 2222, '4': 691, '5': 309, '6': 159, '7': 2176, '8': 2966, '9': 0, '10': 99, '11': 2884, '12': 1401, '13': 636, '14': 1092, '15': 0, '16': 2480, '17': 2241, '18': 831, '19': 2094, '20': 1496, '21': 1576, '22': 2987, '23': 2166, '24': 2528, '25': 986, '26': 1663, '27': 2236, '28': 1836, '29': 1168, '30': 190} \n",
      "\n",
      "30\n",
      "\n",
      " dict_values([2135, 1973, 2222, 691, 309, 159, 2176, 2966, 0, 99, 2884, 1401, 636, 1092, 0, 2480, 2241, 831, 2094, 1496, 1576, 2987, 2166, 2528, 986, 1663, 2236, 1836, 1168, 190]) \n",
      "\n",
      "Média: 1507.37\n",
      "Menor valor de faturamento em um dia do mês: R$ 0.00\n",
      "Maior valor de faturamento em um dia do mês: R$ 2987.00\n",
      "Número de dias com faturamento acima da média mensal: 16\n"
     ]
    }
   ],
   "source": [
    "import json\n",
    "\n",
    "with open('C:/Users/Pedro/aulas python/Aulas Python/targetvalores.json', 'r') as arquivo:\n",
    "    dados = json.load(arquivo)\n",
    "\n",
    "\n",
    "print(dados,\"\\n\")\n",
    "print(len(dados))\n",
    "print(\"\\n\",dados.values(),\"\\n\")\n",
    "\n",
    "menor_valor = min(dados.values())\n",
    "maior_valor = max(dados.values())\n",
    "media = sum(dados.values()) /len(dados)\n",
    "dias_acima_da_media = 0\n",
    "\n",
    "for dado in dados.values():\n",
    "    if dado > media:\n",
    "        dias_acima_da_media = dias_acima_da_media +1\n",
    "       \n",
    "    \n",
    "print(f\"Média: {media:.2f}\")\n",
    "print(f\"Menor valor de faturamento em um dia do mês: R$ {menor_valor:.2f}\")\n",
    "print(f\"Maior valor de faturamento em um dia do mês: R$ {maior_valor:.2f}\")\n",
    "print(f\"Número de dias com faturamento acima da média mensal: {dias_acima_da_media}\")\n"
   ]
  },
  {
   "cell_type": "markdown",
   "id": "ce98025c",
   "metadata": {},
   "source": [
    "4) Dado o valor de faturamento mensal de uma distribuidora, detalhado por estado:\n",
    "\n",
    "• SP – R$67.836,43\n",
    "\n",
    "• RJ – R$36.678,66\n",
    "\n",
    "• MG – R$29.229,88\n",
    "\n",
    "• ES – R$27.165,48\n",
    "\n",
    "• Outros – R$19.849,53\n",
    "\n",
    "Escreva um programa na linguagem que desejar onde calcule o percentual de representação que cada estado teve dentro do valor total mensal da distribuidora. "
   ]
  },
  {
   "cell_type": "code",
   "execution_count": 41,
   "id": "603073db",
   "metadata": {},
   "outputs": [
    {
     "name": "stdout",
     "output_type": "stream",
     "text": [
      "Percentual de vendas SP 37.53%\n",
      "Percentual de vendas RJ 20.29%\n",
      "Percentual de vendas MG 16.17%\n",
      "Percentual de vendas ES 15.03%\n",
      "Percentual de vendas Outros Estados 10.98%\n"
     ]
    }
   ],
   "source": [
    "SP = 67836.43\n",
    "RJ = 36678.66\n",
    "MG = 29229.88\n",
    "ES = 27165.48\n",
    "Outros = 19849.53\n",
    "Total = SP + RJ + MG + ES + Outros\n",
    "\n",
    "\n",
    "percentual_sp = SP/Total\n",
    "percentual_rj = RJ/Total\n",
    "percentual_mg = MG/Total\n",
    "percentual_es = ES/Total\n",
    "percentual_outros = Outros/Total\n",
    "\n",
    "\n",
    "print(\"Percentual de vendas SP {:2.2%}\".format(percentual_sp))\n",
    "print(\"Percentual de vendas RJ {:2.2%}\".format(percentual_rj))\n",
    "print(\"Percentual de vendas MG {:2.2%}\".format(percentual_mg))\n",
    "print(\"Percentual de vendas ES {:2.2%}\".format(percentual_es))\n",
    "print(\"Percentual de vendas Outros Estados {:2.2%}\".format(percentual_outros))"
   ]
  },
  {
   "cell_type": "markdown",
   "id": "d7917ffd",
   "metadata": {},
   "source": [
    "5) Escreva um programa que inverta os caracteres de um string.\n",
    "\n",
    "IMPORTANTE:\n",
    "\n",
    "a) Essa string pode ser informada através de qualquer entrada de sua preferência ou pode ser previamente definida no código;\n",
    "\n",
    "b) Evite usar funções prontas, como, por exemplo, reverse;"
   ]
  },
  {
   "cell_type": "code",
   "execution_count": 62,
   "id": "ca4b6a0e",
   "metadata": {
    "scrolled": true
   },
   "outputs": [
    {
     "name": "stdout",
     "output_type": "stream",
     "text": [
      "target sistemas\n",
      "Palavra invertida: sametsis tegrat\n"
     ]
    }
   ],
   "source": [
    "palavra = input()\n",
    "palavra_invertida = \"\"\n",
    "\n",
    "\n",
    "for i in range(len(palavra) - 1, -1, -1):\n",
    "    palavra_invertida += palavra[i]\n",
    "    \n",
    "print(\"Palavra invertida:\", palavra_invertida)"
   ]
  }
 ],
 "metadata": {
  "kernelspec": {
   "display_name": "Python 3 (ipykernel)",
   "language": "python",
   "name": "python3"
  },
  "language_info": {
   "codemirror_mode": {
    "name": "ipython",
    "version": 3
   },
   "file_extension": ".py",
   "mimetype": "text/x-python",
   "name": "python",
   "nbconvert_exporter": "python",
   "pygments_lexer": "ipython3",
   "version": "3.11.5"
  }
 },
 "nbformat": 4,
 "nbformat_minor": 5
}
